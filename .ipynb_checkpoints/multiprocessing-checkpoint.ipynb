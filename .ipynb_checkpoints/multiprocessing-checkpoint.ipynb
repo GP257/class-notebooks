{
 "cells": [
  {
   "cell_type": "markdown",
   "id": "a37fcf23-1fad-4dcc-b251-8dedc97912c4",
   "metadata": {},
   "source": [
    "# The multiprocess (or multiprocessing module)"
   ]
  },
  {
   "cell_type": "markdown",
   "id": "d70b7ea8-f08c-4d91-81f1-62747f99395c",
   "metadata": {},
   "source": [
    "The Global Interpreter Lock (GIL) is a mechanism used in CPython (the default implementation of the Python programming language) to ensure that only one thread executes Python bytecodes at a time. This lock is necessary because CPython's memory management is not thread-safe."
   ]
  },
  {
   "cell_type": "markdown",
   "id": "4836abb1-1035-4965-a270-a93cc660ed19",
   "metadata": {},
   "source": [
    "This basically means using threads (that share the same memory space) are difficult to do in python (unless we go cython). But we can use different processes."
   ]
  },
  {
   "cell_type": "markdown",
   "id": "218637ae-ce26-4c72-acd6-df63f566379c",
   "metadata": {},
   "source": [
    "However, the GIL does not apply to multi-process programming, as each process runs in its own memory space and has its own GIL. In a multi-process environment, multiple processes can run Python bytecodes concurrently, each in its own separate process. This means that the GIL is not a bottleneck in multi-process programming, and can provide better performance on multi-core systems compared to multi-threading.\n",
    "\n",
    "In other words, multiprocessing allows you to bypass the GIL by creating separate processes, each with its own interpreter instance, which can run simultaneously on multiple cores. This makes it possible to take full advantage of multi-core systems and improve the performance of CPU-bound and parallelizable tasks in Python."
   ]
  },
  {
   "cell_type": "markdown",
   "id": "8ca5b7f6-ee0d-474f-86c9-c4aebd38074f",
   "metadata": {},
   "source": [
    "## The process function"
   ]
  },
  {
   "cell_type": "code",
   "execution_count": 1,
   "id": "4dddaa91-d915-4402-ac61-2be3e20fb42f",
   "metadata": {
    "tags": []
   },
   "outputs": [
    {
     "name": "stdout",
     "output_type": "stream",
     "text": [
      "Worker 0 started\n",
      "Worker 1 started\n",
      "Worker 2 started\n",
      "Worker 3 started\n",
      "Worker 4 started\n",
      "Worker 0 finished\n",
      "Worker 1 finished\n",
      "Worker 2 finished\n",
      "Worker 3 finished\n",
      "Worker 4 finished\n"
     ]
    }
   ],
   "source": [
    "import multiprocessing\n",
    "import time\n",
    "\n",
    "def worker(number):\n",
    "    \"\"\"A function that runs in a separate process.\"\"\"\n",
    "    print(f\"Worker {number} started\")\n",
    "    time.sleep(1)\n",
    "    print(f\"Worker {number} finished\")\n",
    "\n",
    "# Create a process for each worker\n",
    "processes = [multiprocessing.Process(target=worker, args=(i,)) for i in range(5)]\n",
    "\n",
    "# Start the processes\n",
    "for process in processes:\n",
    "    process.start()\n",
    "\n",
    "# Wait for all processes to finish\n",
    "for process in processes:\n",
    "    process.join()"
   ]
  },
  {
   "cell_type": "markdown",
   "id": "3b7d17d7-b122-4b96-a1c5-92142ac20694",
   "metadata": {},
   "source": [
    "### What is going\n",
    "\n",
    "This represents one of (many) ways to do multi-processing in python.\n",
    "\n",
    "- We are creating 5 new processes.\n",
    "- Each process is going to be creating running the function worker.\n",
    "- We are going to pass the arguments 1 through 5 to the function\n",
    "- We use the function start to start the process\n",
    "- We use the function join to stop the main thread until the given thread has completed."
   ]
  },
  {
   "cell_type": "markdown",
   "id": "00b11085-53f8-4602-8bc6-e792f62d06c8",
   "metadata": {},
   "source": [
    "## The pool function "
   ]
  },
  {
   "cell_type": "code",
   "execution_count": 2,
   "id": "5197184c-4212-4cd2-b4c6-719370d4c2c2",
   "metadata": {
    "tags": []
   },
   "outputs": [
    {
     "name": "stdout",
     "output_type": "stream",
     "text": [
      "[1, 4, 9, 16, 25]\n"
     ]
    }
   ],
   "source": [
    "import multiprocessing\n",
    "\n",
    "def worker(x):\n",
    "    \"\"\"A function that takes a number and squares it.\"\"\"\n",
    "    return x ** 2\n",
    "\n",
    "with multiprocessing.Pool(processes=4) as pool:\n",
    "    # Use the map function to apply the worker function to each element of the list\n",
    "    result = pool.map(worker, [1, 2, 3, 4, 5])\n",
    "\n",
    "print(result)\n"
   ]
  },
  {
   "cell_type": "markdown",
   "id": "f6f447bd-5ea1-4c1a-87ba-3908998149c4",
   "metadata": {},
   "source": [
    "## What is going\n",
    "\n",
    "- the Pool command says that we are going to create 4 new parallel workers\n",
    "- we are then mapping 5 different jobs for those works to do\n",
    "- each new parallel job will call the function worker\n",
    "    - it will pass the argument from our mapped list to the function call\n"
   ]
  },
  {
   "cell_type": "markdown",
   "id": "d0f3432f-07c0-4fc0-b893-8056da6ea95b",
   "metadata": {},
   "source": [
    "## Locks"
   ]
  },
  {
   "cell_type": "code",
   "execution_count": null,
   "id": "b5cba86d-bed5-4b4c-a875-3ddff1e44e19",
   "metadata": {},
   "outputs": [],
   "source": [
    "import multiprocessing\n",
    "import time\n",
    "\n",
    "def worker(worker_id, lock, resource):\n",
    "    \"\"\"A function that runs in a separate process.\"\"\"\n",
    "    for i in range(10):\n",
    "        with lock:\n",
    "            print(f\"Worker {worker_id} is accessing the resource\")\n",
    "            time.sleep(0.1)\n",
    "            resource.value = resource.value + 1\n",
    "            print(f\"Worker {worker_id} has updated the resource to {resource.value}\")\n",
    "\n",
    "if __name__ == \"__main__\":\n",
    "    # Create a shared resource\n",
    "    resource = multiprocessing.Value(\"i\", 0)\n",
    "\n",
    "    # Create a lock to synchronize access to the shared resource\n",
    "    lock = multiprocessing.Lock()\n",
    "\n",
    "    # Start the worker processes\n",
    "    processes = [multiprocessing.Process(target=worker, args=(i, lock, resource)) for i in range(2)]\n",
    "    for process in processes:\n",
    "        process.start()\n",
    "\n",
    "    # Wait for the worker processes to finish\n",
    "    for process in processes:\n",
    "        process.join()"
   ]
  },
  {
   "cell_type": "markdown",
   "id": "20e4a496-e60c-4b0e-ae4e-6e7b3d14b080",
   "metadata": {},
   "source": [
    "# Communcating\n",
    "\n",
    "There are many different ways to communicate with processes. In this first example we will use a pipe."
   ]
  },
  {
   "cell_type": "code",
   "execution_count": 1,
   "id": "bf5c5269-e771-4711-8f2b-2aa895a02d5f",
   "metadata": {
    "tags": []
   },
   "outputs": [
    {
     "name": "stdout",
     "output_type": "stream",
     "text": [
      "Worker received message: hello\n",
      "Worker received message: world\n",
      "Worker closing\n",
      "Parent received response: Processed: hello\n",
      "Parent received response: Processed: world\n"
     ]
    }
   ],
   "source": [
    "import multiprocessing\n",
    "\n",
    "def worker(conn):\n",
    "    \"\"\"A function that runs in a separate process.\"\"\"\n",
    "    while True:\n",
    "        message = conn.recv()\n",
    "        if message == \"close\":\n",
    "            break\n",
    "        print(f\"Worker received message: {message}\")\n",
    "        conn.send(f\"Processed: {message}\")\n",
    "    print(\"Worker closing\")\n",
    "\n",
    "parent_conn, child_conn = multiprocessing.Pipe()\n",
    "\n",
    "# Start the worker process\n",
    "process = multiprocessing.Process(target=worker, args=(child_conn,))\n",
    "process.start()\n",
    "\n",
    "# Send messages to the worker process\n",
    "for message in [\"hello\", \"world\", \"close\"]:\n",
    "    parent_conn.send(message)\n",
    "    if message != \"close\":\n",
    "        response = parent_conn.recv()\n",
    "        print(f\"Parent received response: {response}\")\n",
    "\n",
    "# Wait for the worker process to finish\n",
    "process.join()"
   ]
  },
  {
   "cell_type": "markdown",
   "id": "9bc33bc2-fb99-4002-abb9-a56a559e9a9d",
   "metadata": {},
   "source": [
    "This program creates a pair of connected pipes using the Pipe function, and then starts a worker process that runs the worker function. The main process sends messages to the worker process using the send method, and receives responses using the recv method. The worker process listens for incoming messages using the recv method and sends responses using the send method. The program terminates when the main process sends the message \"close\" to the worker process.\n"
   ]
  },
  {
   "cell_type": "markdown",
   "id": "b5eeb539-15bf-4691-994a-dfd5ae028332",
   "metadata": {},
   "source": [
    "Another, more fleixble, option is using queues."
   ]
  },
  {
   "cell_type": "code",
   "execution_count": 1,
   "id": "c90d6356-3174-4287-9368-e4aac5ddb474",
   "metadata": {
    "tags": []
   },
   "outputs": [
    {
     "name": "stdout",
     "output_type": "stream",
     "text": [
      "Processed by worker 1: worldWorker 2 closing\n",
      "\n",
      "Worker 1 closing\n",
      "Processed by worker 0: hello\n",
      "Worker 0 closing\n"
     ]
    }
   ],
   "source": [
    "import multiprocessing\n",
    "import time\n",
    "import random\n",
    "def worker(worker_id, queue):\n",
    "    \"\"\"A function that runs in a separate process.\"\"\"\n",
    "    while True:\n",
    "        message = queue.get()\n",
    "        if message == \"close\":\n",
    "            break\n",
    "        time.sleep(random.randint(0,4))\n",
    "        print(f\"Processed by worker {worker_id}: {message}\")\n",
    "    print(f\"Worker {worker_id} closing\")\n",
    "\n",
    "queue = multiprocessing.Queue()\n",
    "\n",
    "if __name__ == \"__main__\":\n",
    "    # Start the worker processes\n",
    "    processes = [multiprocessing.Process(target=worker, args=(i, queue)) for i in range(3)]\n",
    "    for process in processes:\n",
    "        process.start()\n",
    "\n",
    "    # Send messages to the worker processes\n",
    "    for message in [\"hello\", \"world\", \"close\",\"close\",\"close\"]:\n",
    "        queue.put(message)\n",
    "\n",
    "\n",
    "    # Wait for the worker processes to finish\n",
    "    for process in processes:\n",
    "        process.join()\n"
   ]
  },
  {
   "cell_type": "code",
   "execution_count": null,
   "id": "47b1b200-8b03-4974-99a9-ce4b046c5666",
   "metadata": {},
   "outputs": [],
   "source": [
    "import multiprocessing\n",
    "import time\n",
    "\n",
    "def worker_function(number):\n",
    "    \"\"\"A function that takes a long time to run.\"\"\"\n",
    "    return number * 2\n",
    "\n",
    "if __name__ == \"__main__\":\n",
    "    # Create a pool of processes\n",
    "    with multiprocessing.Pool(processes=2) as pool:\n",
    "\n",
    "        # Execute the worker_function with multiple inputs\n",
    "        results = pool.map(worker_function, [5, 2, 1, 3])\n",
    "\n",
    "    # Print the results\n",
    "    for result in results:\n",
    "        print(f\"Result: {result}\")"
   ]
  },
  {
   "cell_type": "markdown",
   "id": "23cbfb58-c37b-43fd-9b8f-ff30120fffb0",
   "metadata": {},
   "source": []
  },
  {
   "cell_type": "markdown",
   "id": "1a683651-1100-4afd-a68e-b7f378711874",
   "metadata": {},
   "source": [
    "## Futures\n",
    "\n",
    "In this example, the concurrent.futures.ProcessPoolExecutor is used to execute the worker_function asynchronously using multiple processes. The executor.submit method is used to submit the function to be executed with each of the input values, and the results are stored as Future objects in a list. The concurrent.futures.wait method is used to wait for all futures to finish. The future.result method is used to retrieve the result from each Future object.\n",
    "\n",
    "\n",
    "\n"
   ]
  },
  {
   "cell_type": "code",
   "execution_count": null,
   "id": "8220d1fd-ba6b-459b-bd89-4d530b430e62",
   "metadata": {},
   "outputs": [],
   "source": [
    "import concurrent.futures\n",
    "import time\n",
    "\n",
    "def worker_function(number):\n",
    "    \"\"\"A function that takes a long time to run.\"\"\"\n",
    "    print(f\"worker_function({number}) starting\")\n",
    "    time.sleep(number)\n",
    "    print(f\"worker_function({number}) finished\")\n",
    "    return number\n",
    "\n",
    "if __name__ == \"__main__\":\n",
    "    # Create a list of input values\n",
    "    inputs = [5, 2, 1, 3]\n",
    "\n",
    "    # Use the ProcessPoolExecutor to execute the worker_function asynchronously using multiple processes\n",
    "    with concurrent.futures.ProcessPoolExecutor() as executor:\n",
    "        # Submit the worker_function to be executed with each of the input values\n",
    "        futures = [executor.submit(worker_function, number) for number in inputs]\n",
    "\n",
    "        # Wait for all futures to finish\n",
    "        concurrent.futures.wait(futures)\n",
    "\n",
    "    # Print the results\n",
    "    for future in futures:\n",
    "        result = future.result()\n",
    "        print(f\"Result: {result}\")\n"
   ]
  }
 ],
 "metadata": {
  "kernelspec": {
   "display_name": "Python 3 (ipykernel)",
   "language": "python",
   "name": "python3"
  },
  "language_info": {
   "codemirror_mode": {
    "name": "ipython",
    "version": 3
   },
   "file_extension": ".py",
   "mimetype": "text/x-python",
   "name": "python",
   "nbconvert_exporter": "python",
   "pygments_lexer": "ipython3",
   "version": "3.7.9"
  }
 },
 "nbformat": 4,
 "nbformat_minor": 5
}
