{
 "cells": [
  {
   "cell_type": "markdown",
   "id": "3f960e24",
   "metadata": {},
   "source": [
    "Built-in Functions\n",
    "]\n",
    "enumerate()\n",
    "filter()\n",
    "map()\n",
    "zip()\n"
   ]
  },
  {
   "cell_type": "code",
   "execution_count": 3,
   "id": "d42c4e8e",
   "metadata": {},
   "outputs": [
    {
     "name": "stdout",
     "output_type": "stream",
     "text": [
      "0 4\n",
      "1 3\n",
      "2 5\n"
     ]
    }
   ],
   "source": [
    "class axis:\n",
    "    def __init__(self,n,o=0.,d=1.):\n",
    "        self.n=n\n",
    "        self.o=o\n",
    "        self.d=d\n",
    "\n",
    "axes=[axis(4),axis(3,1.),axis(5,0.,2.)]\n",
    "\n",
    "for iax,ax in enumerate(axes):\n",
    "    print(iax,ax.n)"
   ]
  },
  {
   "cell_type": "code",
   "execution_count": 7,
   "id": "6538eeae",
   "metadata": {},
   "outputs": [
    {
     "name": "stdout",
     "output_type": "stream",
     "text": [
      "[82, 91, 84, 82, 94, 99, 78, 65, 61, 45, 89, 87, 49, 76, 81, 94]\n"
     ]
    }
   ],
   "source": [
    "numbers = [70, 60, 80, 90, 50,82,90,91,84,82,94,99,78,65,61,45,89,87,49,76,81,94]\n",
    "def not_divisible_10(n):\n",
    "    return n%10!=0\n",
    "print(list(filter(not_divisible_10, numbers)))\n"
   ]
  },
  {
   "cell_type": "code",
   "execution_count": 13,
   "id": "34d9ce0e",
   "metadata": {},
   "outputs": [
    {
     "name": "stdout",
     "output_type": "stream",
     "text": [
      "[82, 91, 84, 82, 94, 99, 78, 65, 61, 45, 89, 87, 49, 76, 81, 94]\n"
     ]
    }
   ],
   "source": [
    "div=lambda x: x%10!=0\n",
    "print(list(filter(div, numbers)))\n"
   ]
  },
  {
   "cell_type": "code",
   "execution_count": 14,
   "id": "a9182f76",
   "metadata": {},
   "outputs": [
    {
     "name": "stdout",
     "output_type": "stream",
     "text": [
      "[82, 91, 84, 82, 94, 99, 78, 65, 61, 45, 89, 87, 49, 76, 81, 94]\n"
     ]
    }
   ],
   "source": [
    "print(list(filter(lambda x: x%10!=0, numbers)))\n"
   ]
  },
  {
   "cell_type": "code",
   "execution_count": 15,
   "id": "c0470009",
   "metadata": {},
   "outputs": [
    {
     "name": "stdout",
     "output_type": "stream",
     "text": [
      "[1, 4, 9, 16, 25, 36]\n"
     ]
    }
   ],
   "source": [
    "numbers = [1, 2, 3, 4, 5, 6]\n",
    "squared_numbers = list(map(lambda x: x * x, numbers))\n",
    "\n",
    "print(squared_numbers)"
   ]
  },
  {
   "cell_type": "code",
   "execution_count": 16,
   "id": "2afe0407",
   "metadata": {},
   "outputs": [
    {
     "name": "stdout",
     "output_type": "stream",
     "text": [
      "[('John', 30, 'USA'), ('Jane', 31, 'UK'), ('Jim', 32, 'Canada')]\n"
     ]
    }
   ],
   "source": [
    "names = ['John', 'Jane', 'Jim']\n",
    "ages = [30, 31, 32]\n",
    "countries = ['USA', 'UK', 'Canada']\n",
    "\n",
    "zip_result = list(zip(names, ages, countries))\n",
    "\n",
    "print(zip_result)\n"
   ]
  },
  {
   "cell_type": "code",
   "execution_count": 20,
   "id": "688927b7",
   "metadata": {},
   "outputs": [
    {
     "name": "stdout",
     "output_type": "stream",
     "text": [
      "5.01 s ± 32.4 ms per loop (mean ± std. dev. of 7 runs, 1 loop each)\n"
     ]
    }
   ],
   "source": [
    "%%timeit\n",
    "n,m=10000,10000\n",
    "arr=[]\n",
    "for i in range(n):\n",
    "    arr1=[]\n",
    "    for j in range(m):\n",
    "        arr1.append(0)\n",
    "    arr.append(arr1)"
   ]
  },
  {
   "cell_type": "code",
   "execution_count": 28,
   "id": "62ee8c13",
   "metadata": {},
   "outputs": [
    {
     "name": "stdout",
     "output_type": "stream",
     "text": [
      "2.85 s ± 20.8 ms per loop (mean ± std. dev. of 7 runs, 1 loop each)\n"
     ]
    }
   ],
   "source": [
    "%%timeit\n",
    "arr=[[0 for i in range (m)] for j in range (n)]"
   ]
  },
  {
   "cell_type": "code",
   "execution_count": 2,
   "id": "9595bdd3",
   "metadata": {},
   "outputs": [],
   "source": [
    "import numpy as np"
   ]
  },
  {
   "cell_type": "code",
   "execution_count": 30,
   "id": "8ce29928",
   "metadata": {},
   "outputs": [
    {
     "name": "stdout",
     "output_type": "stream",
     "text": [
      "2.01 µs ± 8.2 ns per loop (mean ± std. dev. of 7 runs, 100000 loops each)\n"
     ]
    }
   ],
   "source": [
    "%%timeit\n",
    "arr=np.zeros((m,n))"
   ]
  },
  {
   "cell_type": "code",
   "execution_count": 31,
   "id": "3514201f",
   "metadata": {},
   "outputs": [
    {
     "name": "stdout",
     "output_type": "stream",
     "text": [
      "6.09 s ± 52.6 ms per loop (mean ± std. dev. of 7 runs, 1 loop each)\n"
     ]
    }
   ],
   "source": [
    "%%timeit \n",
    "\n",
    "arr=[]\n",
    "for i in range(100*1000*1000):\n",
    "    if i%2==0:\n",
    "        arr.append(i)"
   ]
  },
  {
   "cell_type": "code",
   "execution_count": 34,
   "id": "c5412191",
   "metadata": {},
   "outputs": [
    {
     "name": "stdout",
     "output_type": "stream",
     "text": [
      "4.88 s ± 4.88 ms per loop (mean ± std. dev. of 7 runs, 1 loop each)\n"
     ]
    }
   ],
   "source": [
    "%%timeit\n",
    "arr=[i for i in range(100*1000*1000) if i%2==0]"
   ]
  },
  {
   "cell_type": "code",
   "execution_count": 18,
   "id": "fc11bc26",
   "metadata": {},
   "outputs": [],
   "source": [
    "import numpy.random\n",
    "inp=numpy.random.rand(10000,10000)\n",
    "outp=np.zeros((10000,10000))\n"
   ]
  },
  {
   "cell_type": "code",
   "execution_count": 50,
   "id": "cbabf9b7",
   "metadata": {},
   "outputs": [
    {
     "name": "stdout",
     "output_type": "stream",
     "text": [
      "704 ms ± 83.3 ms per loop (mean ± std. dev. of 7 runs, 1 loop each)\n"
     ]
    }
   ],
   "source": [
    "%%timeit\n",
    "outp[1:-1,1:-1]=inp[1:-1,1:-1]-.25*(inp[2:,1:-1]+inp[:-2,1:-1]+inp[1:-1,2:]+inp[1:-1,:-2])"
   ]
  },
  {
   "cell_type": "code",
   "execution_count": 47,
   "id": "9e81657a",
   "metadata": {},
   "outputs": [
    {
     "name": "stdout",
     "output_type": "stream",
     "text": [
      "21.8 s ± 96 ms per loop (mean ± std. dev. of 7 runs, 1 loop each)\n"
     ]
    }
   ],
   "source": [
    "%%timeit \n",
    "out=[[inp[i,j]-.25*(inp[i-1,j]+inp[i+1,j]+inp[i,j-1]+inp[i,j+1]) for i in range (5000)] for j in range (5000)]"
   ]
  },
  {
   "cell_type": "code",
   "execution_count": 27,
   "id": "ab65d1aa",
   "metadata": {},
   "outputs": [],
   "source": [
    "import numba\n",
    "@numba.njit()\n",
    "def apply_stencil(inp,outp):\n",
    "    for i in range(1,inp.shape[0]-1):\n",
    "        for j in range(1,inp.shape[1]-1):\n",
    "            outp[i,j]=inp[i,j]-.25*(inp[i-1,j]+inp[i+1,j]+inp[i,j-1]+inp[i,j+1])"
   ]
  },
  {
   "cell_type": "code",
   "execution_count": 28,
   "id": "b2d1d305",
   "metadata": {},
   "outputs": [],
   "source": [
    "#runit once to compile function\n",
    "apply_stencil(inp,outp)"
   ]
  },
  {
   "cell_type": "code",
   "execution_count": 29,
   "id": "9a4fdafa",
   "metadata": {},
   "outputs": [
    {
     "name": "stdout",
     "output_type": "stream",
     "text": [
      "175 ms ± 422 µs per loop (mean ± std. dev. of 7 runs, 1 loop each)\n"
     ]
    }
   ],
   "source": [
    "%%timeit\n",
    "apply_stencil(inp,outp)"
   ]
  },
  {
   "cell_type": "code",
   "execution_count": 30,
   "id": "1753c91c",
   "metadata": {},
   "outputs": [],
   "source": [
    "import numba\n",
    "@numba.njit(parallel=True)\n",
    "def apply_stencil_par(inp,outp):\n",
    "    for i in numba.prange(1,inp.shape[0]-1):\n",
    "        for j in range(1,inp.shape[1]-1):\n",
    "            outp[i,j]=inp[i,j]-.25*(inp[i-1,j]+inp[i+1,j]+inp[i,j-1]+inp[i,j+1])"
   ]
  },
  {
   "cell_type": "code",
   "execution_count": 31,
   "id": "ecf8ab97",
   "metadata": {},
   "outputs": [],
   "source": [
    "apply_stencil_par(inp,outp)"
   ]
  },
  {
   "cell_type": "code",
   "execution_count": 32,
   "id": "3b7438bd",
   "metadata": {},
   "outputs": [
    {
     "name": "stdout",
     "output_type": "stream",
     "text": [
      "28.8 ms ± 960 µs per loop (mean ± std. dev. of 7 runs, 10 loops each)\n"
     ]
    }
   ],
   "source": [
    "%%timeit\n",
    "apply_stencil_par(inp,outp)"
   ]
  },
  {
   "cell_type": "code",
   "execution_count": 37,
   "id": "06b07ea3",
   "metadata": {},
   "outputs": [
    {
     "name": "stdout",
     "output_type": "stream",
     "text": [
      "-1313.815423330256\n"
     ]
    }
   ],
   "source": [
    "ar1=np.random.rand(100*1000*1000)-.5\n",
    "ar2=np.random.rand(100*1000*1000)-.5\n",
    "x=ar1.dot(ar2)\n"
   ]
  },
  {
   "cell_type": "code",
   "execution_count": 38,
   "id": "baa1d943",
   "metadata": {},
   "outputs": [
    {
     "name": "stdout",
     "output_type": "stream",
     "text": [
      "13.8 ms ± 342 µs per loop (mean ± std. dev. of 7 runs, 100 loops each)\n"
     ]
    }
   ],
   "source": [
    "%%timeit\n",
    "x=ar1.dot(ar2)\n"
   ]
  },
  {
   "cell_type": "code",
   "execution_count": 48,
   "id": "78e874ed",
   "metadata": {},
   "outputs": [
    {
     "name": "stdout",
     "output_type": "stream",
     "text": [
      "-1313.8154233308046\n"
     ]
    }
   ],
   "source": [
    "@numba.njit()\n",
    "def dotit(ar,ar2):\n",
    "    out=0\n",
    "    for i in range(ar.shape[0]):\n",
    "        out+=ar2[i]*ar1[i]\n",
    "    return out\n",
    "print(dotit(ar1,ar2))"
   ]
  },
  {
   "cell_type": "code",
   "execution_count": 50,
   "id": "c14afd87",
   "metadata": {},
   "outputs": [
    {
     "name": "stdout",
     "output_type": "stream",
     "text": [
      "97.6 ms ± 217 µs per loop (mean ± std. dev. of 7 runs, 10 loops each)\n"
     ]
    }
   ],
   "source": [
    "%%timeit\n",
    "y=dotit(ar1,ar2)"
   ]
  },
  {
   "cell_type": "code",
   "execution_count": 54,
   "id": "081f9c9a",
   "metadata": {},
   "outputs": [
    {
     "name": "stdout",
     "output_type": "stream",
     "text": [
      "-1313.8154233302423\n"
     ]
    }
   ],
   "source": [
    "@numba.njit(parallel=True)\n",
    "def dotit(ar,ar2):\n",
    "    out=0\n",
    "    for i in numba.prange(ar.shape[0]):\n",
    "        out+=ar2[i]*ar1[i]\n",
    "    return out\n",
    "print(dotit(ar1,ar2))"
   ]
  },
  {
   "cell_type": "code",
   "execution_count": 55,
   "id": "5105b087",
   "metadata": {},
   "outputs": [
    {
     "name": "stdout",
     "output_type": "stream",
     "text": [
      "17.4 ms ± 1.3 ms per loop (mean ± std. dev. of 7 runs, 100 loops each)\n"
     ]
    }
   ],
   "source": [
    "%%timeit\n",
    "y=dotit(ar1,ar2)"
   ]
  },
  {
   "cell_type": "code",
   "execution_count": 56,
   "id": "be208e3b",
   "metadata": {},
   "outputs": [],
   "source": [
    "ar1=np.random.rand(100,1000*1000)-.5\n",
    "ar2=np.random.rand(100,1000*1000)-.5"
   ]
  },
  {
   "cell_type": "code",
   "execution_count": 59,
   "id": "029b3a9b",
   "metadata": {},
   "outputs": [
    {
     "name": "stdout",
     "output_type": "stream",
     "text": [
      "-1203.532824119682\n"
     ]
    }
   ],
   "source": [
    "@numba.njit(parallel=True)\n",
    "def dotit(ar,ar2):\n",
    "    out=0\n",
    "    for i in numba.prange(ar.shape[0]):\n",
    "        out+=np.dot(ar[i],ar2[i])\n",
    "    return out\n",
    "print(dotit(ar1,ar2))"
   ]
  },
  {
   "cell_type": "code",
   "execution_count": 70,
   "id": "62b37edb",
   "metadata": {},
   "outputs": [
    {
     "name": "stdout",
     "output_type": "stream",
     "text": [
      "271 ms ± 9 ms per loop (mean ± std. dev. of 7 runs, 1 loop each)\n"
     ]
    }
   ],
   "source": [
    "%%timeit\n",
    "np.sum(np.multiply(ar1,ar2))\n"
   ]
  },
  {
   "cell_type": "code",
   "execution_count": 71,
   "id": "65ba507a",
   "metadata": {},
   "outputs": [
    {
     "name": "stdout",
     "output_type": "stream",
     "text": [
      "-1203.532824119682\n"
     ]
    }
   ],
   "source": [
    "@numba.njit(parallel=True)\n",
    "def dotit_p2d(ar,ar2):\n",
    "    out=0\n",
    "    for i in numba.prange(ar.shape[0]):\n",
    "        out+=np.dot(ar[i],ar2[i])\n",
    "    return out\n",
    "print(dotit(ar1,ar2))"
   ]
  },
  {
   "cell_type": "code",
   "execution_count": null,
   "id": "ad3c9f8f",
   "metadata": {},
   "outputs": [],
   "source": [
    "@numba.njit(parallel=True)\n",
    "def dotit_p2d(ar,ar2):\n",
    "    out=0\n",
    "    for i in numba.prange(ar.shape[0]):\n",
    "        out+=np.dot(ar[i],ar2[i])\n",
    "    return out\n",
    "print(dotit(ar1,ar2))"
   ]
  },
  {
   "cell_type": "code",
   "execution_count": 69,
   "id": "90b1a132",
   "metadata": {},
   "outputs": [
    {
     "name": "stdout",
     "output_type": "stream",
     "text": [
      "17.2 ms ± 577 µs per loop (mean ± std. dev. of 7 runs, 100 loops each)\n"
     ]
    }
   ],
   "source": [
    "%%timeit\n",
    "x=dotit_p2d(ar1,ar2)"
   ]
  },
  {
   "cell_type": "code",
   "execution_count": null,
   "id": "33b1b9bb",
   "metadata": {},
   "outputs": [],
   "source": []
  }
 ],
 "metadata": {
  "kernelspec": {
   "display_name": "Python 3 (ipykernel)",
   "language": "python",
   "name": "python3"
  },
  "language_info": {
   "codemirror_mode": {
    "name": "ipython",
    "version": 3
   },
   "file_extension": ".py",
   "mimetype": "text/x-python",
   "name": "python",
   "nbconvert_exporter": "python",
   "pygments_lexer": "ipython3",
   "version": "3.9.7"
  }
 },
 "nbformat": 4,
 "nbformat_minor": 5
}
