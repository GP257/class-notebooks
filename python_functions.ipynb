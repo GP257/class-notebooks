{
 "cells": [
  {
   "cell_type": "markdown",
   "id": "1d9e13d3-c941-4270-bc5e-8eb6b15b3858",
   "metadata": {},
   "source": [
    "# Heading toward parallelism\n"
   ]
  },
  {
   "cell_type": "markdown",
   "id": "3f960e24",
   "metadata": {},
   "source": [
    "## Built-in Functions that we haven't covered \n",
    "\n",
    "- enumerate()\n",
    "- filter()\n",
    "- map()\n",
    "- zip()\n",
    "- lambda functions"
   ]
  },
  {
   "cell_type": "markdown",
   "id": "64070df1-4b95-4ab7-8d9f-90627617df6e",
   "metadata": {},
   "source": [
    "### Enumerate\n",
    "\n",
    "Return item and item number"
   ]
  },
  {
   "cell_type": "code",
   "execution_count": 1,
   "id": "d42c4e8e",
   "metadata": {},
   "outputs": [
    {
     "name": "stdout",
     "output_type": "stream",
     "text": [
      "0 4\n",
      "1 3\n",
      "2 5\n"
     ]
    }
   ],
   "source": [
    "class axis:\n",
    "    def __init__(self,n,o=0.,d=1.):\n",
    "        self.n=n\n",
    "        self.o=o\n",
    "        self.d=d\n",
    "\n",
    "axes=[axis(4),axis(3,1.),axis(5,0.,2.)]\n",
    "\n",
    "for iax,ax in enumerate(axes):\n",
    "    print(iax,ax.n)"
   ]
  },
  {
   "cell_type": "markdown",
   "id": "3d4cf0fe-3e07-4791-a204-fd261040e454",
   "metadata": {},
   "source": [
    "### Filter\n",
    "\n",
    "Filter a list based on a functon"
   ]
  },
  {
   "cell_type": "code",
   "execution_count": 2,
   "id": "6538eeae",
   "metadata": {},
   "outputs": [
    {
     "name": "stdout",
     "output_type": "stream",
     "text": [
      "[82, 91, 84, 82, 94, 99, 78, 65, 61, 45, 89, 87, 49, 76, 81, 94]\n"
     ]
    }
   ],
   "source": [
    "numbers = [70, 60, 80, 90, 50,82,90,91,84,82,94,99,78,65,61,45,89,87,49,76,81,94]\n",
    "def not_divisible_10(n):\n",
    "    return n%10!=0\n",
    "print(list(filter(not_divisible_10, numbers)))\n"
   ]
  },
  {
   "cell_type": "markdown",
   "id": "88da631b-015e-4628-813f-2452ca1389e3",
   "metadata": {},
   "source": [
    "### lambda\n",
    "\n",
    "A shorthand way to create a function"
   ]
  },
  {
   "cell_type": "code",
   "execution_count": 3,
   "id": "34d9ce0e",
   "metadata": {},
   "outputs": [
    {
     "name": "stdout",
     "output_type": "stream",
     "text": [
      "[82, 91, 84, 82, 94, 99, 78, 65, 61, 45, 89, 87, 49, 76, 81, 94]\n"
     ]
    }
   ],
   "source": [
    "div=lambda x: x%10!=0\n",
    "print(list(filter(div, numbers)))\n"
   ]
  },
  {
   "cell_type": "code",
   "execution_count": 4,
   "id": "a9182f76",
   "metadata": {},
   "outputs": [
    {
     "name": "stdout",
     "output_type": "stream",
     "text": [
      "[82, 91, 84, 82, 94, 99, 78, 65, 61, 45, 89, 87, 49, 76, 81, 94]\n"
     ]
    }
   ],
   "source": [
    "print(list(filter(lambda x: x%10!=0, numbers)))\n"
   ]
  },
  {
   "cell_type": "markdown",
   "id": "09d92eb0-bc6c-48f8-8c50-93698d4b4983",
   "metadata": {},
   "source": [
    "### map\n",
    "\n",
    "Map a function to a list (or dictionary)"
   ]
  },
  {
   "cell_type": "code",
   "execution_count": 5,
   "id": "c0470009",
   "metadata": {
    "tags": []
   },
   "outputs": [
    {
     "name": "stdout",
     "output_type": "stream",
     "text": [
      "[1, 4, 9, 16, 25, 36]\n"
     ]
    }
   ],
   "source": [
    "numbers = [1, 2, 3, 4, 5, 6]\n",
    "squared_numbers = list(map(lambda x: x * x, numbers))\n",
    "\n",
    "print(squared_numbers)"
   ]
  },
  {
   "cell_type": "markdown",
   "id": "13292904-206b-4179-a31d-16334d067cab",
   "metadata": {},
   "source": [
    "### zip\n",
    "\n",
    "From a series of list make a list of tuples\n"
   ]
  },
  {
   "cell_type": "code",
   "execution_count": 6,
   "id": "2afe0407",
   "metadata": {},
   "outputs": [
    {
     "name": "stdout",
     "output_type": "stream",
     "text": [
      "[('John', 30, 'USA'), ('Jane', 31, 'UK'), ('Jim', 32, 'Canada')]\n"
     ]
    }
   ],
   "source": [
    "names = ['John', 'Jane', 'Jim']\n",
    "ages = [30, 31, 32]\n",
    "countries = ['USA', 'UK', 'Canada']\n",
    "\n",
    "zip_result = list(zip(names, ages, countries))\n",
    "\n",
    "print(zip_result)\n"
   ]
  },
  {
   "cell_type": "markdown",
   "id": "f24d8efc-8131-4011-9ea2-600068f8d101",
   "metadata": {},
   "source": [
    "### Why???\n",
    "\n",
    "- Single line functions are faster \n",
    "- Make you look like a \"python pro\" \n",
    "    - snob?"
   ]
  },
  {
   "cell_type": "markdown",
   "id": "eb6a1804-ea1d-453e-8614-234a4f571083",
   "metadata": {},
   "source": [
    "## Make a 2-D array from lists using a loop and on a single line"
   ]
  },
  {
   "cell_type": "code",
   "execution_count": 7,
   "id": "688927b7",
   "metadata": {},
   "outputs": [
    {
     "name": "stdout",
     "output_type": "stream",
     "text": [
      "7.35 s ± 439 ms per loop (mean ± std. dev. of 7 runs, 1 loop each)\n"
     ]
    }
   ],
   "source": [
    "%%timeit\n",
    "n,m=10000,10000\n",
    "arr=[]\n",
    "for i in range(n):\n",
    "    arr1=[]\n",
    "    for j in range(m):\n",
    "        arr1.append(0)\n",
    "    arr.append(arr1)"
   ]
  },
  {
   "cell_type": "code",
   "execution_count": 8,
   "id": "62ee8c13",
   "metadata": {},
   "outputs": [
    {
     "name": "stdout",
     "output_type": "stream",
     "text": [
      "3.22 s ± 133 ms per loop (mean ± std. dev. of 7 runs, 1 loop each)\n"
     ]
    }
   ],
   "source": [
    "%%timeit\n",
    "arr=[[0 for i in range (10000)] for j in range (10000)]"
   ]
  },
  {
   "cell_type": "markdown",
   "id": "13d47c75-196f-4148-9abd-4bba797a54fa",
   "metadata": {},
   "source": [
    "### Numpy\n",
    "\n",
    "How about doing the same thing in numpy"
   ]
  },
  {
   "cell_type": "code",
   "execution_count": 9,
   "id": "9595bdd3",
   "metadata": {
    "tags": []
   },
   "outputs": [],
   "source": [
    "import numpy as np"
   ]
  },
  {
   "cell_type": "code",
   "execution_count": 10,
   "id": "8ce29928",
   "metadata": {},
   "outputs": [
    {
     "name": "stdout",
     "output_type": "stream",
     "text": [
      "3.11 µs ± 18.1 ns per loop (mean ± std. dev. of 7 runs, 100000 loops each)\n"
     ]
    }
   ],
   "source": [
    "%%timeit\n",
    "arr=np.zeros((10000,10000))"
   ]
  },
  {
   "cell_type": "markdown",
   "id": "bbf196dc-8600-4808-bb39-8e5606b767a8",
   "metadata": {},
   "source": [
    "## Appending even"
   ]
  },
  {
   "cell_type": "code",
   "execution_count": 11,
   "id": "3514201f",
   "metadata": {},
   "outputs": [
    {
     "name": "stdout",
     "output_type": "stream",
     "text": [
      "8.86 s ± 373 ms per loop (mean ± std. dev. of 7 runs, 1 loop each)\n"
     ]
    }
   ],
   "source": [
    "%%timeit \n",
    "\n",
    "arr=[]\n",
    "for i in range(100*1000*1000):\n",
    "    if i%2==0:\n",
    "        arr.append(i)"
   ]
  },
  {
   "cell_type": "markdown",
   "id": "9fd2d5c0-e731-43ff-8bf2-fa7c10f5cedd",
   "metadata": {},
   "source": [
    "Do the same thing one line"
   ]
  },
  {
   "cell_type": "code",
   "execution_count": 12,
   "id": "c5412191",
   "metadata": {},
   "outputs": [
    {
     "name": "stdout",
     "output_type": "stream",
     "text": [
      "6.91 s ± 325 ms per loop (mean ± std. dev. of 7 runs, 1 loop each)\n"
     ]
    }
   ],
   "source": [
    "%%timeit\n",
    "arr=[i for i in range(100*1000*1000) if i%2==0]"
   ]
  },
  {
   "cell_type": "markdown",
   "id": "5ac0ea22-8494-4ba4-b6af-b2b80e98a417",
   "metadata": {},
   "source": [
    "Now in numpy with what amounts to a lambda function"
   ]
  },
  {
   "cell_type": "code",
   "execution_count": 13,
   "id": "024821e8-4e3c-4801-ac02-2964463e735e",
   "metadata": {
    "tags": []
   },
   "outputs": [
    {
     "name": "stdout",
     "output_type": "stream",
     "text": [
      "2.56 s ± 212 ms per loop (mean ± std. dev. of 7 runs, 1 loop each)\n"
     ]
    }
   ],
   "source": [
    "%%timeit\n",
    "ar = np.arange(100*1000*1000)\n",
    "ar = ar[ar%2==0]\n"
   ]
  },
  {
   "cell_type": "markdown",
   "id": "1784ecb1-9d54-4fd5-a1f7-8598a427e295",
   "metadata": {},
   "source": [
    "Now if we do the same thing completely in numpy (C)"
   ]
  },
  {
   "cell_type": "code",
   "execution_count": 14,
   "id": "537a80c2-d60e-4d9c-8416-2496ac246fc3",
   "metadata": {
    "tags": []
   },
   "outputs": [
    {
     "name": "stdout",
     "output_type": "stream",
     "text": [
      "2.94 µs ± 29.4 ns per loop (mean ± std. dev. of 7 runs, 100000 loops each)\n"
     ]
    }
   ],
   "source": [
    "%%timeit\n",
    "ar=np.arange(2,10000,2)"
   ]
  },
  {
   "cell_type": "markdown",
   "id": "b7d9bc73-759f-4e64-86ed-5598d5dfa9a8",
   "metadata": {},
   "source": [
    "## Numba"
   ]
  },
  {
   "cell_type": "markdown",
   "id": "c900280e-9f4a-43a0-8432-797812b231d8",
   "metadata": {},
   "source": [
    "We've seen how fast numpy can be compared to python. Another option is numba.\n",
    "Numba is a Just In Time (JIT) compiler.  When a numba decorated function is called\n",
    "it looks at the arguments. If it hasn't compiled a version of the function with\n",
    "those arguments it, it compiles the function.  It is very efficient numpy arrays,\n",
    "not so efficient on python types.\n"
   ]
  },
  {
   "cell_type": "code",
   "execution_count": 15,
   "id": "004880cc-00f0-42d7-85d6-80d6e896aaa7",
   "metadata": {
    "tags": []
   },
   "outputs": [],
   "source": [
    "import random\n",
    "import numpy.random\n",
    "ar1=[random.random() for i in range(100*1000*1000)]\n",
    "ar2=[random.random() for i in range(100*1000*1000)]\n",
    "ar3=numpy.random.rand(100*1000*1000)\n",
    "ar4=numpy.random.rand(100*1000*1000)"
   ]
  },
  {
   "cell_type": "code",
   "execution_count": 16,
   "id": "6d5672de-821c-4996-8b04-ecd8a28a225d",
   "metadata": {
    "tags": []
   },
   "outputs": [],
   "source": [
    "import numba\n",
    "@numba.jit()\n",
    "def dot_it(a1,a2,n):\n",
    "    tot=0\n",
    "    for i in range(n):\n",
    "        tot+=a1[i]*a2[i]\n",
    "    return tot\n",
    "#x=dot_it(ar1,ar2,100*1000*1000)\n",
    "y=dot_it(ar3,ar4,100*1000*1000)"
   ]
  },
  {
   "cell_type": "code",
   "execution_count": 17,
   "id": "e0afa6e4-0524-4a59-8f65-d22e5a15b675",
   "metadata": {
    "tags": []
   },
   "outputs": [],
   "source": [
    "#%%timeit\n",
    "#dot_it(ar1,ar2,100*1000*1000)"
   ]
  },
  {
   "cell_type": "code",
   "execution_count": 18,
   "id": "8e6ee439-d086-43b0-a32e-f61d95b30135",
   "metadata": {
    "tags": []
   },
   "outputs": [
    {
     "name": "stdout",
     "output_type": "stream",
     "text": [
      "145 ms ± 6.96 ms per loop (mean ± std. dev. of 7 runs, 10 loops each)\n"
     ]
    }
   ],
   "source": [
    "%%timeit\n",
    "dot_it(ar3,ar4,100*1000*1000)"
   ]
  },
  {
   "cell_type": "markdown",
   "id": "c625ec09-b3aa-411f-8791-03dd5a766813",
   "metadata": {},
   "source": [
    "Don't send python base classes, use numpy types!"
   ]
  },
  {
   "cell_type": "code",
   "execution_count": 19,
   "id": "7e70c963-cd43-47c0-9f0e-af2deef8ad28",
   "metadata": {},
   "outputs": [
    {
     "name": "stdout",
     "output_type": "stream",
     "text": [
      "25001681.827542666\n"
     ]
    }
   ],
   "source": [
    "@numba.njit() #only run with non-python classes\n",
    "def dotit(ar1,ar2):\n",
    "    out=0\n",
    "    for i in range(ar1.shape[0]):\n",
    "        out+=ar2[i]*ar1[i]\n",
    "    return out\n",
    "print(dotit(ar3,ar4))\n"
   ]
  },
  {
   "cell_type": "markdown",
   "id": "b00fdc6b-d64e-4496-b916-6151b810b7e8",
   "metadata": {},
   "source": [
    "## Numba and loop parallelism\n",
    "- Numba can parallelize loops (using omp behind the scenes)\n",
    "- Limited parallelism model\n",
    "    - Define loop with numba.prange\n",
    "    - Can Do limited reduce operations"
   ]
  },
  {
   "cell_type": "code",
   "execution_count": 20,
   "id": "23e21892-ab07-48c2-bfc6-56f1d3bc1d00",
   "metadata": {
    "tags": []
   },
   "outputs": [
    {
     "name": "stdout",
     "output_type": "stream",
     "text": [
      "25001681.827537928\n"
     ]
    }
   ],
   "source": [
    "@numba.njit(parallel=True) #only run with non-python classes\n",
    "def dotit(ar1,ar2):\n",
    "    out=0\n",
    "    for i in numba.prange(ar1.shape[0]):\n",
    "        out+=ar2[i]*ar1[i]\n",
    "    return out\n",
    "print(dotit(ar3,ar4))"
   ]
  },
  {
   "cell_type": "code",
   "execution_count": 21,
   "id": "d18e2149-3449-479f-9d10-8a8a4ad1f18b",
   "metadata": {
    "tags": []
   },
   "outputs": [
    {
     "name": "stdout",
     "output_type": "stream",
     "text": [
      "56.7 ms ± 2.38 ms per loop (mean ± std. dev. of 7 runs, 10 loops each)\n"
     ]
    }
   ],
   "source": [
    "%%timeit \n",
    "y=dotit(ar3,ar4)"
   ]
  },
  {
   "cell_type": "markdown",
   "id": "09fed6a9-2bb5-47c2-b5ac-297883f0e1d3",
   "metadata": {},
   "source": [
    "How does it compare to direct numpy?"
   ]
  },
  {
   "cell_type": "code",
   "execution_count": 22,
   "id": "6a094858-676a-4eb7-9b2c-c4527be7ffc4",
   "metadata": {
    "tags": []
   },
   "outputs": [
    {
     "name": "stdout",
     "output_type": "stream",
     "text": [
      "94.5 ms ± 3.94 ms per loop (mean ± std. dev. of 7 runs, 10 loops each)\n"
     ]
    }
   ],
   "source": [
    "%%timeit\n",
    "y=ar3.dot(ar4)"
   ]
  },
  {
   "cell_type": "markdown",
   "id": "ec6e648f-8f90-4753-bb4a-fa3379dfc04a",
   "metadata": {},
   "source": [
    "Why is numpy faster than the serial version (and sometimes the parllel version)?  Numpy is calling a highly optimized, vectorzied BLAS library. It is maximizing vector performance. Even using more cores doesn't help."
   ]
  },
  {
   "cell_type": "markdown",
   "id": "464976fa-6c56-4254-aab7-3b27ce81354a",
   "metadata": {
    "tags": []
   },
   "source": [
    "## Is strict numpy always the answer?\n",
    "\n",
    "Lets change the problem to applying a laplacian to an array."
   ]
  },
  {
   "cell_type": "code",
   "execution_count": 43,
   "id": "fc11bc26",
   "metadata": {
    "tags": []
   },
   "outputs": [],
   "source": [
    "import numpy.random\n",
    "import numpy as np\n",
    "inp=numpy.random.rand(10000,10000)\n",
    "outp=np.zeros((10000,10000))\n"
   ]
  },
  {
   "cell_type": "markdown",
   "id": "82b46256-08e3-452d-9f71-b8e798a8d29d",
   "metadata": {},
   "source": [
    "The numpy way to write this operation looks something like the following:"
   ]
  },
  {
   "cell_type": "code",
   "execution_count": 37,
   "id": "cbabf9b7",
   "metadata": {},
   "outputs": [
    {
     "name": "stdout",
     "output_type": "stream",
     "text": [
      "1.47 s ± 24.1 ms per loop (mean ± std. dev. of 7 runs, 1 loop each)\n"
     ]
    }
   ],
   "source": [
    "%%timeit\n",
    "outp[1:-1,1:-1]=inp[1:-1,1:-1]-.25*(inp[2:,1:-1]+inp[:-2,1:-1]+\\\n",
    "                                    inp[1:-1,2:]+inp[1:-1,:-2])"
   ]
  },
  {
   "cell_type": "code",
   "execution_count": 36,
   "id": "e0427010",
   "metadata": {},
   "outputs": [
    {
     "name": "stdout",
     "output_type": "stream",
     "text": [
      "1.04 s ± 11.2 ms per loop (mean ± std. dev. of 7 runs, 1 loop each)\n"
     ]
    }
   ],
   "source": [
    "%%timeit\n",
    "outp[1:-1,1:-1] -= inp[1:-1,1:-1]\n",
    "outp[1:-1,1:-1] += inp[1:-1,:-2]\n",
    "outp[1:-1,1:-1] += inp[1:-1,2:]\n",
    "outp[1:-1,1:-1] += inp[:-2,1:-1]\n",
    "outp[1:-1,1:-1] += inp[2:,1:-1]"
   ]
  },
  {
   "cell_type": "markdown",
   "id": "1913f5bc-f0de-4ec1-ad89-81873a83dc60",
   "metadata": {},
   "source": [
    "For comparison the single line python way."
   ]
  },
  {
   "cell_type": "code",
   "execution_count": 25,
   "id": "9e81657a",
   "metadata": {},
   "outputs": [],
   "source": [
    "#%%timeit \n",
    "#out=[[inp[i,j]-.25*(inp[i-1,j]+inp[i+1,j]+inp[i,j-1]+inp[i,j+1]) for i in range (1,9999)] for j in range (1,9999)]"
   ]
  },
  {
   "cell_type": "markdown",
   "id": "9c6ebc1a-4fe8-4383-bf33-06f2c16a2bfd",
   "metadata": {},
   "source": [
    "And the numba approach"
   ]
  },
  {
   "cell_type": "code",
   "execution_count": 38,
   "id": "ab65d1aa",
   "metadata": {},
   "outputs": [],
   "source": [
    "import numba\n",
    "@numba.njit()\n",
    "def apply_stencil(inp,outp):\n",
    "    for i in range(1,inp.shape[0]-1):\n",
    "        for j in range(1,inp.shape[1]-1):\n",
    "            outp[i,j]=inp[i,j]-.25*(inp[i-1,j]+inp[i+1,j]+inp[i,j-1]+inp[i,j+1])"
   ]
  },
  {
   "cell_type": "code",
   "execution_count": 39,
   "id": "b2d1d305",
   "metadata": {},
   "outputs": [],
   "source": [
    "#runit once to compile function\n",
    "apply_stencil(inp,outp)"
   ]
  },
  {
   "cell_type": "code",
   "execution_count": 40,
   "id": "9a4fdafa",
   "metadata": {},
   "outputs": [
    {
     "name": "stdout",
     "output_type": "stream",
     "text": [
      "298 ms ± 38.2 ms per loop (mean ± std. dev. of 7 runs, 1 loop each)\n"
     ]
    }
   ],
   "source": [
    "%%timeit\n",
    "apply_stencil(inp,outp)"
   ]
  },
  {
   "cell_type": "markdown",
   "id": "97df5314-27cb-48de-8e51-f85bc14a0ca3",
   "metadata": {},
   "source": [
    "And a parallelized numba approach"
   ]
  },
  {
   "cell_type": "code",
   "execution_count": 44,
   "id": "1753c91c",
   "metadata": {
    "tags": []
   },
   "outputs": [],
   "source": [
    "import numba\n",
    "@numba.njit(parallel=True)\n",
    "def apply_stencil_par(inp,outp):\n",
    "    for i in range(1,inp.shape[0]-1):\n",
    "        for j in numba.prange(1,inp.shape[1]-1):\n",
    "            outp[i,j]=inp[i,j]-.25*(inp[i-1,j]+inp[i+1,j]+inp[i,j-1]+inp[i,j+1])\n",
    "apply_stencil_par(inp,outp)"
   ]
  },
  {
   "cell_type": "code",
   "execution_count": 45,
   "id": "3b7438bd",
   "metadata": {
    "tags": []
   },
   "outputs": [
    {
     "name": "stdout",
     "output_type": "stream",
     "text": [
      "738 ms ± 32.3 ms per loop (mean ± std. dev. of 7 runs, 1 loop each)\n"
     ]
    }
   ],
   "source": [
    "%%timeit\n",
    "apply_stencil_par(inp,outp)"
   ]
  },
  {
   "cell_type": "markdown",
   "id": "82cee3d7-8fe5-4e68-bee4-63afe9cb3732",
   "metadata": {},
   "source": [
    "In this case we are getting a large speedup using numba. Why?\n",
    "- The numpy is creating a bunch of extra arrays\n",
    "- Destroys all cache reuse\n",
    "\n",
    "What about scipy?"
   ]
  },
  {
   "cell_type": "code",
   "execution_count": 35,
   "id": "50f54eca-ebdd-41e1-9110-c2326f4bb8ed",
   "metadata": {
    "tags": []
   },
   "outputs": [
    {
     "name": "stdout",
     "output_type": "stream",
     "text": [
      "4.09 s ± 481 ms per loop (mean ± std. dev. of 7 runs, 1 loop each)\n"
     ]
    }
   ],
   "source": [
    "%%timeit\n",
    "from scipy import ndimage\n",
    "result = ndimage.laplace(inp)\n"
   ]
  },
  {
   "cell_type": "code",
   "execution_count": null,
   "id": "33b1b9bb",
   "metadata": {},
   "outputs": [],
   "source": []
  }
 ],
 "metadata": {
  "kernelspec": {
   "display_name": "Python 3 (ipykernel)",
   "language": "python",
   "name": "python3"
  },
  "language_info": {
   "codemirror_mode": {
    "name": "ipython",
    "version": 3
   },
   "file_extension": ".py",
   "mimetype": "text/x-python",
   "name": "python",
   "nbconvert_exporter": "python",
   "pygments_lexer": "ipython3",
   "version": "3.7.9"
  }
 },
 "nbformat": 4,
 "nbformat_minor": 5
}
